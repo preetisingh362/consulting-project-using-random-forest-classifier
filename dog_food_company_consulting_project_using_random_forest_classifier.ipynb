{
  "nbformat": 4,
  "nbformat_minor": 0,
  "metadata": {
    "colab": {
      "name": "dog food company consulting project using random forest classifier",
      "provenance": []
    },
    "kernelspec": {
      "name": "python3",
      "display_name": "Python 3"
    },
    "language_info": {
      "name": "python"
    }
  },
  "cells": [
    {
      "cell_type": "code",
      "metadata": {
        "colab": {
          "base_uri": "https://localhost:8080/"
        },
        "id": "3O40PELf1127",
        "outputId": "b9d6a303-32ed-4ca3-fa12-aa31d95bb734"
      },
      "source": [
        "!pip install pyspark"
      ],
      "execution_count": 1,
      "outputs": [
        {
          "output_type": "stream",
          "text": [
            "Collecting pyspark\n",
            "\u001b[?25l  Downloading https://files.pythonhosted.org/packages/89/db/e18cfd78e408de957821ec5ca56de1250645b05f8523d169803d8df35a64/pyspark-3.1.2.tar.gz (212.4MB)\n",
            "\u001b[K     |████████████████████████████████| 212.4MB 65kB/s \n",
            "\u001b[?25hCollecting py4j==0.10.9\n",
            "\u001b[?25l  Downloading https://files.pythonhosted.org/packages/9e/b6/6a4fb90cd235dc8e265a6a2067f2a2c99f0d91787f06aca4bcf7c23f3f80/py4j-0.10.9-py2.py3-none-any.whl (198kB)\n",
            "\u001b[K     |████████████████████████████████| 204kB 19.7MB/s \n",
            "\u001b[?25hBuilding wheels for collected packages: pyspark\n",
            "  Building wheel for pyspark (setup.py) ... \u001b[?25l\u001b[?25hdone\n",
            "  Created wheel for pyspark: filename=pyspark-3.1.2-py2.py3-none-any.whl size=212880768 sha256=8b0179f6ed1b44c3ad35b7138685d2af314f82a232b0c42535ba8594c760abbc\n",
            "  Stored in directory: /root/.cache/pip/wheels/40/1b/2c/30f43be2627857ab80062bef1527c0128f7b4070b6b2d02139\n",
            "Successfully built pyspark\n",
            "Installing collected packages: py4j, pyspark\n",
            "Successfully installed py4j-0.10.9 pyspark-3.1.2\n"
          ],
          "name": "stdout"
        }
      ]
    },
    {
      "cell_type": "code",
      "metadata": {
        "id": "xkB3Tu2514gV"
      },
      "source": [
        "from pyspark.sql import SparkSession"
      ],
      "execution_count": 3,
      "outputs": []
    },
    {
      "cell_type": "code",
      "metadata": {
        "id": "X6QpG_GX2GaF"
      },
      "source": [
        "spark=SparkSession.builder.appName('dog_food').getOrCreate()"
      ],
      "execution_count": 5,
      "outputs": []
    },
    {
      "cell_type": "code",
      "metadata": {
        "colab": {
          "resources": {
            "http://localhost:8080/nbextensions/google.colab/files.js": {
              "data": "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",
              "ok": true,
              "headers": [
                [
                  "content-type",
                  "application/javascript"
                ]
              ],
              "status": 200,
              "status_text": ""
            }
          },
          "base_uri": "https://localhost:8080/",
          "height": 109
        },
        "id": "NY_xnkJn2R5I",
        "outputId": "932c2d6b-9e9f-45a6-81d8-3e3f10ef5ed1"
      },
      "source": [
        "from google.colab import files\n",
        "files.upload()"
      ],
      "execution_count": 7,
      "outputs": [
        {
          "output_type": "display_data",
          "data": {
            "text/html": [
              "\n",
              "     <input type=\"file\" id=\"files-e68dc6b1-4242-4b92-a747-f7131746fcd7\" name=\"files[]\" multiple disabled\n",
              "        style=\"border:none\" />\n",
              "     <output id=\"result-e68dc6b1-4242-4b92-a747-f7131746fcd7\">\n",
              "      Upload widget is only available when the cell has been executed in the\n",
              "      current browser session. Please rerun this cell to enable.\n",
              "      </output>\n",
              "      <script src=\"/nbextensions/google.colab/files.js\"></script> "
            ],
            "text/plain": [
              "<IPython.core.display.HTML object>"
            ]
          },
          "metadata": {
            "tags": []
          }
        },
        {
          "output_type": "stream",
          "text": [
            "Saving dog_food.csv to dog_food.csv\n"
          ],
          "name": "stdout"
        },
        {
          "output_type": "execute_result",
          "data": {
            "text/plain": [
              "{'dog_food.csv': b'A,B,C,D,Spoiled\\n4,2,12.0,3,1.0\\n5,6,12.0,7,1.0\\n6,2,13.0,6,1.0\\n4,2,12.0,1,1.0\\n4,2,12.0,3,1.0\\n10,3,13.0,9,1.0\\n8,5,14.0,5,1.0\\n5,8,12.0,8,1.0\\n6,5,12.0,9,1.0\\n3,3,12.0,1,1.0\\n9,8,11.0,3,1.0\\n1,10,12.0,3,1.0\\n1,5,13.0,10,1.0\\n2,10,12.0,6,1.0\\n1,10,11.0,4,1.0\\n5,3,12.0,2,1.0\\n4,9,11.0,8,1.0\\n5,1,11.0,1,1.0\\n4,9,12.0,10,1.0\\n5,8,10.0,9,1.0\\n5,7,11.0,9,1.0\\n4,10,13.0,8,1.0\\n10,5,12.0,9,1.0\\n2,4,13.0,4,1.0\\n1,4,13.0,10,1.0\\n1,8,12.0,1,1.0\\n2,10,13.0,4,1.0\\n6,2,12.0,4,1.0\\n8,2,13.0,3,1.0\\n6,4,12.0,2,1.0\\n3,2,11.0,9,1.0\\n10,6,12.0,10,1.0\\n9,5,13.0,3,1.0\\n9,2,12.0,5,1.0\\n2,6,13.0,9,1.0\\n4,2,12.0,10,1.0\\n4,3,12.0,6,1.0\\n7,1,12.0,1,1.0\\n1,7,11.0,10,1.0\\n9,2,11.0,10,1.0\\n2,6,12.0,2,1.0\\n9,4,11.0,5,1.0\\n6,2,11.0,10,1.0\\n3,10,11.0,4,1.0\\n6,9,11.0,2,1.0\\n10,6,11.0,9,1.0\\n6,7,11.0,9,1.0\\n7,2,13.0,8,1.0\\n9,2,13.0,5,1.0\\n8,7,12.0,6,1.0\\n9,1,12.0,9,1.0\\n3,5,14.0,3,1.0\\n7,1,11.0,3,1.0\\n5,9,12.0,7,1.0\\n3,10,12.0,7,1.0\\n9,8,13.0,9,1.0\\n10,9,12.0,9,1.0\\n10,7,11.0,2,1.0\\n10,3,11.0,1,1.0\\n2,4,11.0,8,1.0\\n10,3,13.0,4,1.0\\n5,1,14.0,8,1.0\\n8,8,11.0,4,1.0\\n4,8,14.0,1,1.0\\n5,1,12.0,7,1.0\\n6,8,11.0,2,1.0\\n1,1,13.0,3,1.0\\n9,3,12.0,10,1.0\\n6,1,11.0,7,1.0\\n7,5,10.0,1,1.0\\n10,2,12.0,2,1.0\\n2,3,13.0,1,1.0\\n5,8,12.0,2,1.0\\n10,6,12.0,10,1.0\\n9,1,11.0,6,1.0\\n10,10,14.0,7,1.0\\n1,5,12.0,10,1.0\\n10,1,11.0,2,1.0\\n1,1,12.0,2,1.0\\n10,3,13.0,7,1.0\\n1,6,11.0,10,1.0\\n9,4,12.0,3,1.0\\n10,9,12.0,5,1.0\\n10,8,11.0,2,1.0\\n5,3,9.0,2,1.0\\n3,7,12.0,10,1.0\\n4,9,12.0,8,1.0\\n5,1,11.0,2,1.0\\n10,9,11.0,9,1.0\\n10,7,11.0,6,1.0\\n8,2,13.0,10,1.0\\n7,7,11.0,3,1.0\\n9,10,11.0,5,1.0\\n5,2,12.0,8,1.0\\n1,1,10.0,8,1.0\\n5,5,12.0,8,1.0\\n9,6,12.0,1,1.0\\n4,6,12.0,2,1.0\\n1,1,12.0,4,1.0\\n9,3,11.0,10,1.0\\n3,2,12.0,6,1.0\\n2,4,11.0,9,1.0\\n8,1,12.0,10,1.0\\n10,6,11.0,6,1.0\\n8,9,12.0,2,1.0\\n2,3,12.0,3,1.0\\n4,6,14.0,4,1.0\\n3,4,12.0,4,1.0\\n9,5,12.0,5,1.0\\n10,5,13.0,2,1.0\\n8,2,10.0,6,1.0\\n10,5,11.0,2,1.0\\n10,1,11.0,3,1.0\\n7,6,13.0,3,1.0\\n8,9,14.0,4,1.0\\n8,8,14.0,7,1.0\\n1,9,11.0,10,1.0\\n2,9,10.0,3,1.0\\n4,9,13.0,4,1.0\\n10,10,12.0,7,1.0\\n8,9,12.0,7,1.0\\n9,7,12.0,1,1.0\\n3,6,13.0,5,1.0\\n4,5,12.0,3,1.0\\n1,7,11.0,9,1.0\\n4,6,12.0,9,1.0\\n8,10,13.0,3,1.0\\n5,4,12.0,5,1.0\\n9,4,12.0,6,1.0\\n3,4,12.0,5,1.0\\n7,7,11.0,4,1.0\\n6,2,12.0,6,1.0\\n2,8,11.0,1,1.0\\n4,4,10.0,3,1.0\\n3,7,12.0,9,1.0\\n10,3,12.0,7,1.0\\n3,1,12.0,7,1.0\\n2,4,13.0,10,1.0\\n6,3,12.0,2,1.0\\n7,2,14.0,4,1.0\\n4,2,8.0,9,0.0\\n4,8,9.0,1,0.0\\n10,8,8.0,6,0.0\\n8,6,9.0,4,0.0\\n7,2,7.0,8,0.0\\n3,3,9.0,5,0.0\\n4,10,8.0,9,0.0\\n4,7,10.0,7,0.0\\n1,7,8.0,2,0.0\\n10,7,8.0,5,0.0\\n10,5,9.0,1,0.0\\n5,7,10.0,10,0.0\\n2,8,6.0,9,0.0\\n4,1,7.0,5,0.0\\n4,6,9.0,7,0.0\\n2,2,9.0,8,0.0\\n6,7,6.0,9,0.0\\n5,7,7.0,2,0.0\\n7,1,7.0,5,0.0\\n8,1,8.0,3,0.0\\n1,6,8.0,1,0.0\\n4,5,9.0,8,0.0\\n8,10,8.0,3,0.0\\n4,9,8.0,2,0.0\\n2,9,6.0,4,0.0\\n8,10,8.0,9,0.0\\n3,6,8.0,1,0.0\\n5,6,9.0,8,0.0\\n5,2,8.0,10,0.0\\n9,7,6.0,7,0.0\\n3,8,6.0,10,0.0\\n3,3,8.0,9,0.0\\n3,4,10.0,2,0.0\\n6,8,8.0,9,0.0\\n1,4,8.0,7,0.0\\n6,9,7.0,10,0.0\\n10,6,8.0,6,0.0\\n9,4,7.0,10,0.0\\n9,2,10.0,3,0.0\\n6,8,8.0,6,0.0\\n10,5,7.0,4,0.0\\n4,8,8.0,7,0.0\\n5,6,6.0,9,0.0\\n2,1,10.0,7,0.0\\n6,4,7.0,4,0.0\\n6,8,9.0,4,0.0\\n3,3,8.0,3,0.0\\n3,5,10.0,6,0.0\\n3,3,9.0,9,0.0\\n7,7,8.0,9,0.0\\n6,8,7.0,10,0.0\\n7,3,7.0,7,0.0\\n5,7,9.0,2,0.0\\n4,9,8.0,10,0.0\\n9,9,7.0,4,0.0\\n6,9,6.0,1,0.0\\n4,2,10.0,10,0.0\\n8,10,8.0,3,0.0\\n1,7,8.0,4,0.0\\n3,2,9.0,1,0.0\\n9,9,9.0,6,0.0\\n4,10,5.0,4,0.0\\n9,3,7.0,5,0.0\\n9,1,9.0,3,0.0\\n4,6,7.0,2,0.0\\n4,5,8.0,5,0.0\\n5,7,6.0,6,0.0\\n10,6,9.0,3,0.0\\n6,6,8.0,10,0.0\\n3,7,9.0,7,0.0\\n8,10,8.0,2,0.0\\n5,2,8.0,3,0.0\\n5,7,7.0,5,0.0\\n10,9,8.0,2,0.0\\n4,4,8.0,7,0.0\\n1,4,9.0,6,0.0\\n8,2,9.0,10,0.0\\n9,6,9.0,5,0.0\\n7,6,7.0,7,0.0\\n1,2,9.0,4,0.0\\n1,8,7.0,10,0.0\\n6,2,8.0,9,0.0\\n9,5,7.0,8,0.0\\n8,7,8.0,6,0.0\\n5,7,8.0,9,0.0\\n8,4,9.0,1,0.0\\n6,1,9.0,3,0.0\\n9,7,8.0,9,0.0\\n2,9,7.0,10,0.0\\n2,4,8.0,5,0.0\\n10,3,8.0,8,0.0\\n7,9,8.0,8,0.0\\n6,6,8.0,2,0.0\\n1,5,8.0,10,0.0\\n10,1,9.0,9,0.0\\n8,1,9.0,2,0.0\\n10,9,8.0,6,0.0\\n5,10,7.0,1,0.0\\n3,6,7.0,8,0.0\\n4,10,10.0,5,0.0\\n2,1,7.0,9,0.0\\n9,2,9.0,9,0.0\\n3,9,8.0,9,0.0\\n2,3,6.0,9,0.0\\n3,9,8.0,6,0.0\\n10,7,9.0,1,0.0\\n10,10,6.0,4,0.0\\n8,5,9.0,5,0.0\\n7,2,8.0,1,0.0\\n7,2,8.0,9,0.0\\n6,9,7.0,2,0.0\\n1,4,9.0,3,0.0\\n10,9,9.0,10,0.0\\n4,3,8.0,8,0.0\\n8,7,6.0,6,0.0\\n5,7,8.0,3,0.0\\n8,6,8.0,3,0.0\\n3,2,6.0,10,0.0\\n4,2,6.0,5,0.0\\n10,6,8.0,7,0.0\\n3,6,8.0,3,0.0\\n2,2,8.0,1,0.0\\n1,9,10.0,6,0.0\\n9,6,8.0,7,0.0\\n4,5,9.0,5,0.0\\n3,5,8.0,6,0.0\\n4,5,8.0,10,0.0\\n9,4,9.0,4,0.0\\n9,4,7.0,6,0.0\\n7,6,8.0,10,0.0\\n9,10,11.0,2,0.0\\n3,4,9.0,5,0.0\\n2,10,9.0,2,0.0\\n10,9,8.0,2,0.0\\n4,6,9.0,4,0.0\\n4,10,7.0,10,0.0\\n9,1,9.0,8,0.0\\n3,10,8.0,6,0.0\\n8,5,9.0,3,0.0\\n8,5,7.0,5,0.0\\n1,8,6.0,6,0.0\\n8,8,6.0,8,0.0\\n4,8,7.0,3,0.0\\n9,3,8.0,7,0.0\\n10,8,7.0,3,0.0\\n2,10,6.0,4,0.0\\n2,5,9.0,5,0.0\\n10,7,9.0,4,0.0\\n3,10,9.0,8,0.0\\n9,2,7.0,3,0.0\\n7,4,6.0,4,0.0\\n3,4,8.0,7,0.0\\n4,7,8.0,3,0.0\\n10,9,8.0,10,0.0\\n4,6,5.0,6,0.0\\n10,2,9.0,7,0.0\\n9,8,9.0,10,0.0\\n7,10,8.0,2,0.0\\n5,5,6.0,1,0.0\\n8,4,7.0,6,0.0\\n5,5,7.0,9,0.0\\n7,2,9.0,9,0.0\\n9,4,9.0,3,0.0\\n5,5,7.0,3,0.0\\n2,7,7.0,4,0.0\\n4,5,9.0,8,0.0\\n1,8,8.0,6,0.0\\n5,6,9.0,5,0.0\\n3,6,8.0,3,0.0\\n7,2,9.0,5,0.0\\n10,9,10.0,6,0.0\\n4,7,10.0,6,0.0\\n1,9,9.0,7,0.0\\n1,7,7.0,2,0.0\\n1,9,7.0,5,0.0\\n2,8,9.0,4,0.0\\n5,4,8.0,2,0.0\\n1,7,7.0,6,0.0\\n2,1,8.0,9,0.0\\n2,6,9.0,4,0.0\\n1,6,8.0,9,0.0\\n1,4,8.0,5,0.0\\n10,6,8.0,5,0.0\\n6,4,6.0,4,0.0\\n2,1,9.0,1,0.0\\n8,6,9.0,10,0.0\\n5,6,7.0,9,0.0\\n10,10,7.0,1,0.0\\n2,9,10.0,6,0.0\\n9,6,10.0,2,0.0\\n3,5,9.0,3,0.0\\n5,10,8.0,3,0.0\\n1,3,9.0,8,0.0\\n8,8,8.0,7,0.0\\n6,1,8.0,3,0.0\\n4,9,9.0,2,0.0\\n2,9,10.0,3,0.0\\n1,5,8.0,5,0.0\\n5,6,8.0,8,0.0\\n6,10,9.0,2,0.0\\n9,6,8.0,9,0.0\\n1,8,8.0,7,0.0\\n8,2,8.0,8,0.0\\n3,6,8.0,5,0.0\\n9,2,9.0,6,0.0\\n7,10,5.0,6,0.0\\n2,5,8.0,3,0.0\\n9,2,10.0,7,0.0\\n5,9,8.0,9,0.0\\n1,6,8.0,3,0.0\\n7,4,8.0,3,0.0\\n8,5,8.0,5,0.0\\n5,9,7.0,3,0.0\\n9,6,8.0,5,0.0\\n3,1,8.0,5,0.0\\n5,8,9.0,9,0.0\\n2,5,8.0,3,0.0\\n5,6,8.0,6,0.0\\n2,5,8.0,1,0.0\\n6,2,11.0,10,0.0\\n2,6,6.0,9,0.0\\n4,4,6.0,8,0.0\\n2,7,8.0,9,0.0\\n5,2,7.0,9,0.0\\n6,10,8.0,3,0.0\\n4,6,7.0,5,0.0\\n2,8,8.0,6,0.0\\n6,2,8.0,3,0.0\\n8,10,9.0,8,0.0\\n5,9,8.0,5,0.0\\n9,2,9.0,8,0.0\\n5,10,8.0,6,0.0\\n10,6,8.0,3,0.0\\n6,6,9.0,6,0.0\\n6,3,10.0,5,0.0\\n1,3,8.0,5,0.0\\n2,3,9.0,3,0.0\\n2,6,8.0,8,0.0\\n8,4,9.0,10,0.0\\n8,7,6.0,7,0.0\\n2,6,8.0,10,0.0\\n7,2,9.0,3,0.0\\n7,9,6.0,2,0.0\\n2,10,8.0,8,0.0\\n5,2,9.0,9,0.0\\n2,8,9.0,10,0.0\\n8,4,6.0,8,0.0\\n7,3,10.0,7,0.0\\n9,9,8.0,7,0.0\\n8,4,8.0,1,0.0\\n9,2,6.0,8,0.0\\n8,6,8.0,2,0.0\\n9,7,8.0,2,0.0\\n4,3,9.0,6,0.0\\n2,1,8.0,9,0.0\\n9,4,7.0,9,0.0\\n4,2,9.0,2,0.0\\n10,3,8.0,2,0.0\\n9,2,10.0,5,0.0\\n10,7,7.0,7,0.0\\n2,3,7.0,10,0.0\\n10,1,7.0,4,0.0\\n3,3,7.0,5,0.0\\n10,1,7.0,4,0.0\\n5,4,8.0,7,0.0\\n7,3,7.0,8,0.0\\n10,9,7.0,4,0.0\\n5,7,8.0,9,0.0\\n5,9,7.0,5,0.0\\n4,6,7.0,5,0.0\\n4,2,8.0,9,0.0\\n8,3,7.0,4,0.0\\n3,5,9.0,6,0.0\\n4,3,8.0,10,0.0\\n1,6,7.0,8,0.0\\n8,5,8.0,6,0.0\\n9,10,7.0,6,0.0\\n8,9,8.0,1,0.0\\n9,10,8.0,8,0.0\\n3,10,8.0,2,0.0\\n8,10,10.0,7,0.0\\n2,1,10.0,7,0.0\\n5,10,8.0,8,0.0\\n4,9,7.0,7,0.0\\n9,3,7.0,7,0.0\\n5,7,8.0,6,0.0\\n8,7,9.0,3,0.0\\n2,2,7.0,8,0.0\\n6,6,9.0,9,0.0\\n4,2,8.0,4,0.0\\n3,9,7.0,9,0.0\\n7,9,6.0,5,0.0\\n5,3,7.0,5,0.0\\n4,4,9.0,1,0.0\\n6,9,8.0,5,0.0\\n10,10,8.0,1,0.0\\n2,6,8.0,6,0.0\\n10,10,9.0,5,0.0\\n5,9,9.0,6,0.0\\n3,2,8.0,9,0.0\\n10,10,9.0,3,0.0\\n4,7,9.0,4,0.0\\n4,4,7.0,1,0.0\\n5,8,8.0,5,0.0\\n2,3,8.0,3,0.0\\n6,4,9.0,2,0.0\\n2,9,9.0,10,0.0\\n3,6,8.0,2,0.0\\n3,2,10.0,10,0.0\\n2,2,8.0,1,0.0\\n9,6,9.0,1,0.0\\n6,5,6.0,2,0.0\\n3,6,8.0,1,0.0\\n3,3,8.0,6,0.0\\n2,10,9.0,2,0.0\\n8,9,8.0,9,0.0\\n7,4,10.0,4,0.0\\n6,6,7.0,8,0.0\\n5,3,7.0,7,0.0\\n6,7,7.0,6,0.0\\n9,1,9.0,5,0.0\\n10,9,9.0,1,0.0\\n10,4,8.0,3,0.0\\n1,2,9.0,1,0.0\\n2,1,9.0,1,0.0\\n6,1,7.0,9,0.0\\n1,5,8.0,3,0.0\\n2,8,8.0,4,0.0\\n1,8,8.0,8,0.0\\n3,1,9.0,7,0.0\\n3,9,7.0,6,0.0\\n8,1,7.0,4,0.0\\n10,4,9.0,8,0.0\\n2,5,7.0,6,0.0\\n10,6,8.0,5,0.0\\n6,1,9.0,7,0.0\\n6,10,7.0,10,0.0\\n2,10,8.0,3,0.0\\n1,4,8.0,1,0.0\\n8,9,9.0,4,0.0\\n10,10,7.0,4,0.0\\n8,3,7.0,9,0.0\\n2,2,9.0,8,0.0\\n9,5,10.0,10,0.0\\n2,2,6.0,10,0.0\\n8,3,6.0,6,0.0\\n6,4,9.0,10,0.0\\n1,3,8.0,3,0.0\\n6,6,8.0,3,0.0\\n1,9,7.0,4,0.0\\n'}"
            ]
          },
          "metadata": {
            "tags": []
          },
          "execution_count": 7
        }
      ]
    },
    {
      "cell_type": "code",
      "metadata": {
        "id": "kgkzj77k2aeT"
      },
      "source": [
        "data=spark.read.csv('dog_food.csv',header='True',inferSchema='True')"
      ],
      "execution_count": 10,
      "outputs": []
    },
    {
      "cell_type": "code",
      "metadata": {
        "colab": {
          "base_uri": "https://localhost:8080/"
        },
        "id": "KVNE1ubI2kRL",
        "outputId": "830c4674-fdfc-4f40-eb36-0828ce503a90"
      },
      "source": [
        "data.printSchema()"
      ],
      "execution_count": 11,
      "outputs": [
        {
          "output_type": "stream",
          "text": [
            "root\n",
            " |-- A: integer (nullable = true)\n",
            " |-- B: integer (nullable = true)\n",
            " |-- C: double (nullable = true)\n",
            " |-- D: integer (nullable = true)\n",
            " |-- Spoiled: double (nullable = true)\n",
            "\n"
          ],
          "name": "stdout"
        }
      ]
    },
    {
      "cell_type": "code",
      "metadata": {
        "colab": {
          "base_uri": "https://localhost:8080/"
        },
        "id": "5VPAN__Z2l3b",
        "outputId": "8a2cc079-f9b7-4492-8f9a-186ac44df6ea"
      },
      "source": [
        "data.show()"
      ],
      "execution_count": 12,
      "outputs": [
        {
          "output_type": "stream",
          "text": [
            "+---+---+----+---+-------+\n",
            "|  A|  B|   C|  D|Spoiled|\n",
            "+---+---+----+---+-------+\n",
            "|  4|  2|12.0|  3|    1.0|\n",
            "|  5|  6|12.0|  7|    1.0|\n",
            "|  6|  2|13.0|  6|    1.0|\n",
            "|  4|  2|12.0|  1|    1.0|\n",
            "|  4|  2|12.0|  3|    1.0|\n",
            "| 10|  3|13.0|  9|    1.0|\n",
            "|  8|  5|14.0|  5|    1.0|\n",
            "|  5|  8|12.0|  8|    1.0|\n",
            "|  6|  5|12.0|  9|    1.0|\n",
            "|  3|  3|12.0|  1|    1.0|\n",
            "|  9|  8|11.0|  3|    1.0|\n",
            "|  1| 10|12.0|  3|    1.0|\n",
            "|  1|  5|13.0| 10|    1.0|\n",
            "|  2| 10|12.0|  6|    1.0|\n",
            "|  1| 10|11.0|  4|    1.0|\n",
            "|  5|  3|12.0|  2|    1.0|\n",
            "|  4|  9|11.0|  8|    1.0|\n",
            "|  5|  1|11.0|  1|    1.0|\n",
            "|  4|  9|12.0| 10|    1.0|\n",
            "|  5|  8|10.0|  9|    1.0|\n",
            "+---+---+----+---+-------+\n",
            "only showing top 20 rows\n",
            "\n"
          ],
          "name": "stdout"
        }
      ]
    },
    {
      "cell_type": "code",
      "metadata": {
        "id": "8Ywgnnnl21-T"
      },
      "source": [
        "from pyspark.ml.feature import VectorAssembler"
      ],
      "execution_count": 15,
      "outputs": []
    },
    {
      "cell_type": "code",
      "metadata": {
        "colab": {
          "base_uri": "https://localhost:8080/"
        },
        "id": "gncSXhmp3usJ",
        "outputId": "b2e47edd-c2c5-44e0-8b5d-720d0597969e"
      },
      "source": [
        "data.columns"
      ],
      "execution_count": 16,
      "outputs": [
        {
          "output_type": "execute_result",
          "data": {
            "text/plain": [
              "['A', 'B', 'C', 'D', 'Spoiled']"
            ]
          },
          "metadata": {
            "tags": []
          },
          "execution_count": 16
        }
      ]
    },
    {
      "cell_type": "code",
      "metadata": {
        "id": "yHQJLqXV3EiN"
      },
      "source": [
        "assembler=VectorAssembler(inputCols=['A', 'B', 'C', 'D'],outputCol='features')"
      ],
      "execution_count": 17,
      "outputs": []
    },
    {
      "cell_type": "code",
      "metadata": {
        "id": "Zzc_726Z33JR"
      },
      "source": [
        "data2=assembler.transform(data)"
      ],
      "execution_count": 18,
      "outputs": []
    },
    {
      "cell_type": "code",
      "metadata": {
        "colab": {
          "base_uri": "https://localhost:8080/"
        },
        "id": "F0FEtc6f36zT",
        "outputId": "790b249a-42f8-44a7-8e47-6dc35cffea65"
      },
      "source": [
        "data2.printSchema()"
      ],
      "execution_count": 19,
      "outputs": [
        {
          "output_type": "stream",
          "text": [
            "root\n",
            " |-- A: integer (nullable = true)\n",
            " |-- B: integer (nullable = true)\n",
            " |-- C: double (nullable = true)\n",
            " |-- D: integer (nullable = true)\n",
            " |-- Spoiled: double (nullable = true)\n",
            " |-- features: vector (nullable = true)\n",
            "\n"
          ],
          "name": "stdout"
        }
      ]
    },
    {
      "cell_type": "code",
      "metadata": {
        "colab": {
          "base_uri": "https://localhost:8080/"
        },
        "id": "XGGC1QNo388g",
        "outputId": "009f8ccc-a80a-4af1-9b0e-c03d15f1e48c"
      },
      "source": [
        "finaldata=data2.select('spoiled','features')\n",
        "finaldata.printSchema()"
      ],
      "execution_count": 20,
      "outputs": [
        {
          "output_type": "stream",
          "text": [
            "root\n",
            " |-- spoiled: double (nullable = true)\n",
            " |-- features: vector (nullable = true)\n",
            "\n"
          ],
          "name": "stdout"
        }
      ]
    },
    {
      "cell_type": "code",
      "metadata": {
        "id": "jyhJLSAJ4Qwj"
      },
      "source": [
        "from pyspark.ml.classification import RandomForestClassifier"
      ],
      "execution_count": 21,
      "outputs": []
    },
    {
      "cell_type": "code",
      "metadata": {
        "id": "tZxIu-YR7XMc"
      },
      "source": [
        "rfc=RandomForestClassifier(labelCol='spoiled',featuresCol='features',numTrees=100 )"
      ],
      "execution_count": 28,
      "outputs": []
    },
    {
      "cell_type": "code",
      "metadata": {
        "id": "IaaB_-WI7lE-"
      },
      "source": [
        "rfc_model=rfc.fit(finaldata)"
      ],
      "execution_count": 29,
      "outputs": []
    },
    {
      "cell_type": "code",
      "metadata": {
        "colab": {
          "base_uri": "https://localhost:8080/"
        },
        "id": "FtQTyJgB7qJ0",
        "outputId": "828fa286-7120-44fc-e0e4-6070761de52b"
      },
      "source": [
        "rfc_model.featureImportances  # which factor is affecting the most"
      ],
      "execution_count": 30,
      "outputs": [
        {
          "output_type": "execute_result",
          "data": {
            "text/plain": [
              "SparseVector(4, {0: 0.0198, 1: 0.0188, 2: 0.9407, 3: 0.0207})"
            ]
          },
          "metadata": {
            "tags": []
          },
          "execution_count": 30
        }
      ]
    },
    {
      "cell_type": "code",
      "metadata": {
        "colab": {
          "base_uri": "https://localhost:8080/"
        },
        "id": "UAEIXbpT70Oa",
        "outputId": "09c40f8e-3db3-488b-a497-35351c3ec624"
      },
      "source": [
        "finaldata.head(1)"
      ],
      "execution_count": 31,
      "outputs": [
        {
          "output_type": "execute_result",
          "data": {
            "text/plain": [
              "[Row(spoiled=1.0, features=DenseVector([4.0, 2.0, 12.0, 3.0]))]"
            ]
          },
          "metadata": {
            "tags": []
          },
          "execution_count": 31
        }
      ]
    },
    {
      "cell_type": "code",
      "metadata": {
        "colab": {
          "base_uri": "https://localhost:8080/"
        },
        "id": "q50BUpG08Eo1",
        "outputId": "9d780d11-e5e0-468a-fbe1-f06d4f8c9242"
      },
      "source": [
        "data.head(1)"
      ],
      "execution_count": 32,
      "outputs": [
        {
          "output_type": "execute_result",
          "data": {
            "text/plain": [
              "[Row(A=4, B=2, C=12.0, D=3, Spoiled=1.0)]"
            ]
          },
          "metadata": {
            "tags": []
          },
          "execution_count": 32
        }
      ]
    },
    {
      "cell_type": "code",
      "metadata": {
        "id": "R1k0Mol88BUQ"
      },
      "source": [
        "# result= chemical C is most affecting chemical"
      ],
      "execution_count": null,
      "outputs": []
    }
  ]
}